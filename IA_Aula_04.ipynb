{
  "nbformat": 4,
  "nbformat_minor": 0,
  "metadata": {
    "colab": {
      "provenance": [],
      "authorship_tag": "ABX9TyPxcNB6Yt2x9bpnPDlRR/UY",
      "include_colab_link": true
    },
    "kernelspec": {
      "name": "python3",
      "display_name": "Python 3"
    },
    "language_info": {
      "name": "python"
    }
  },
  "cells": [
    {
      "cell_type": "markdown",
      "metadata": {
        "id": "view-in-github",
        "colab_type": "text"
      },
      "source": [
        "<a href=\"https://colab.research.google.com/github/renatopessanha/AI_Test1_Project/blob/main/IA_Aula_04.ipynb\" target=\"_parent\"><img src=\"https://colab.research.google.com/assets/colab-badge.svg\" alt=\"Open In Colab\"/></a>"
      ]
    },
    {
      "cell_type": "code",
      "execution_count": 1,
      "metadata": {
        "id": "RKURnTvBO45e"
      },
      "outputs": [],
      "source": [
        "!pip install -q -U google-generativeai"
      ]
    },
    {
      "cell_type": "code",
      "source": [
        "# Import the Python SDK\n",
        "import google.generativeai as genai\n",
        "GOOGLE_API_KEY='COLE AQUI SUA CHAVE API'\n",
        "genai.configure(api_key=GOOGLE_API_KEY)"
      ],
      "metadata": {
        "id": "DOvlIOw3X7BY"
      },
      "execution_count": 3,
      "outputs": []
    },
    {
      "cell_type": "code",
      "source": [
        "model = genai.GenerativeModel('gemini-pro')"
      ],
      "metadata": {
        "id": "J6PTRWwrYQs5"
      },
      "execution_count": 4,
      "outputs": []
    },
    {
      "cell_type": "code",
      "source": [
        "response = model.generate_content(\"Sugira exemplos interessantes para explorar a API do Gemini.\")\n",
        "print(response.text)"
      ],
      "metadata": {
        "colab": {
          "base_uri": "https://localhost:8080/",
          "height": 506
        },
        "id": "AmoFkexuYfez",
        "outputId": "6b60db33-a5fe-4668-9a0c-c2c6455f8491"
      },
      "execution_count": 5,
      "outputs": [
        {
          "output_type": "stream",
          "name": "stdout",
          "text": [
            "**Exploração de Mercado:**\n",
            "\n",
            "* **Obtenha dados de preços em tempo real:** Acesse os preços de mercado em tempo real para diferentes pares de ativos.\n",
            "* **Monitore pedidos:** Obtenha informações detalhadas sobre pedidos pendentes, executados e cancelados.\n",
            "* **Acompanhe o histórico de negociações:** Analise dados de negociações anteriores para identificar tendências e padrões.\n",
            "* **Obtenha informações sobre o livro de ofertas:** Examine a distribuição de ofertas e demandas em um determinado mercado.\n",
            "\n",
            "**Gerenciamento de Conta:**\n",
            "\n",
            "* **Abra e gerencie contas:** Crie e gerencie contas de negociação, incluindo depósitos e saques.\n",
            "* **Verifique os saldos da conta:** Obtenha instantâneos dos saldos de conta em tempo real.\n",
            "* **Configure notificações:** Receba alertas sobre alterações de saldo, execução de negociações e outros eventos da conta.\n",
            "* **Gerencie chaves de API:** Gere, gerencie e revogue chaves de API para acesso seguro à API.\n",
            "\n",
            "**Negociação:**\n",
            "\n",
            "* **Coloque ordens de negociação:** Envie ordens de mercado, limite e stop-loss para negociar ativos.\n",
            "* **Modifique e cancele ordens:** Modifique ou cancele ordens pendentes conforme necessário.\n",
            "* **Automatize a negociação:** Use a API para integrar recursos de negociação automatizada em seus aplicativos.\n",
            "* **Otimize estratégias de negociação:** Teste diferentes estratégias de negociação usando dados históricos de preços e informações de mercado.\n",
            "\n",
            "**Pesquisa e Desenvolvimento:**\n",
            "\n",
            "* **Desenvolva indicadores personalizados:** Crie seus próprios indicadores técnicos usando dados de mercado em tempo real.\n",
            "* **Integre com plataformas de terceiros:** Conecte-se a outras plataformas e ferramentas para aprimorar a funcionalidade da negociação.\n",
            "* **Explore novas tecnologias:** Use a API para experimentar tecnologias emergentes, como aprendizado de máquina e inteligência artificial na negociação.\n",
            "* **Crie aplicativos personalizados:** Desenvolva aplicativos personalizados que atendem às necessidades específicas de negociação e pesquisa.\n"
          ]
        }
      ]
    },
    {
      "cell_type": "code",
      "source": [
        "for m in genai.list_models():\n",
        "  if 'generateContent' in m.supported_generation_methods:\n",
        "    print(m.name)"
      ],
      "metadata": {
        "colab": {
          "base_uri": "https://localhost:8080/",
          "height": 138
        },
        "id": "YWzmPB_DYzfj",
        "outputId": "a8683241-17b1-45c8-c2cb-91b02b6a1733"
      },
      "execution_count": 7,
      "outputs": [
        {
          "output_type": "stream",
          "name": "stdout",
          "text": [
            "models/gemini-1.0-pro\n",
            "models/gemini-1.0-pro-001\n",
            "models/gemini-1.0-pro-latest\n",
            "models/gemini-1.0-pro-vision-latest\n",
            "models/gemini-1.5-pro-latest\n",
            "models/gemini-pro\n",
            "models/gemini-pro-vision\n"
          ]
        }
      ]
    },
    {
      "cell_type": "code",
      "source": [
        "generation_config = {\n",
        "    \"candidate_count\": 1,\n",
        "    \"temperature\": 0.5,\n",
        "}"
      ],
      "metadata": {
        "id": "QravRRt7dg5q"
      },
      "execution_count": 12,
      "outputs": []
    },
    {
      "cell_type": "code",
      "source": [
        "safety_settings = {\n",
        "    \"HARASSMENT\": \"BLOCK_NONE\",\n",
        "    \"HATE\": \"BLOCK_NONE\",\n",
        "    \"SEXUAL\": \"BLOCK_NONE\",\n",
        "    \"DANGEROUS\": \"BLOCK_NONE\",\n",
        "}"
      ],
      "metadata": {
        "id": "3fLnFhoueGP5"
      },
      "execution_count": 18,
      "outputs": []
    },
    {
      "cell_type": "code",
      "source": [
        "model = genai.GenerativeModel(model_name = \"gemini-1.0-pro\",\n",
        "                              generation_config = generation_config,\n",
        "                              safety_settings = safety_settings)"
      ],
      "metadata": {
        "id": "FU6QCZk5e2S2"
      },
      "execution_count": 20,
      "outputs": []
    },
    {
      "cell_type": "code",
      "source": [
        "response = model.generate_content(\"Sugira exemplos interessantes para explorar a API do Gemini.\")\n",
        "print(response.text)"
      ],
      "metadata": {
        "colab": {
          "base_uri": "https://localhost:8080/",
          "height": 540
        },
        "id": "7s1WzbGFgT4-",
        "outputId": "c7d424fb-370a-487d-b261-266082a66d42"
      },
      "execution_count": 21,
      "outputs": [
        {
          "output_type": "stream",
          "name": "stdout",
          "text": [
            "**Exploração de Dados de Mercado**\n",
            "\n",
            "* **Obtenha dados de preços históricos:** Recupere dados de preços de ativos específicos para análise técnica e identificação de tendências.\n",
            "* **Monitore livros de ordens em tempo real:** Acesse o livro de ordens para entender a profundidade do mercado, a distribuição de ordens e o sentimento do mercado.\n",
            "* **Analise dados de negociação:** Obtenha dados de negociação agregados para identificar padrões de volume, liquidez e volatilidade.\n",
            "\n",
            "**Automação de Negociação**\n",
            "\n",
            "* **Configure bots de negociação:** Crie bots de negociação automatizados que executem estratégias predefinidas com base em dados de mercado em tempo real.\n",
            "* **Integre com plataformas de negociação:** Conecte-se a plataformas de negociação populares para executar negociações diretamente por meio da API.\n",
            "* **Gerencie ordens programática:** Crie, modifique e cancele ordens usando a API para otimizar o gerenciamento de risco e melhorar a eficiência.\n",
            "\n",
            "**Pesquisa e Desenvolvimento**\n",
            "\n",
            "* **Desenvolva indicadores técnicos personalizados:** Crie seus próprios indicadores técnicos usando a API para identificar oportunidades de negociação exclusivas.\n",
            "* **Teste estratégias de negociação:** Simule estratégias de negociação usando dados históricos e em tempo real para avaliar seu desempenho.\n",
            "* **Analise tendências de mercado:** Use a API para analisar dados de mercado abrangentes e identificar tendências emergentes e padrões de mercado.\n",
            "\n",
            "**Integrações de Terceiros**\n",
            "\n",
            "* **Conecte-se a ferramentas de análise:** Integre a API do Gemini com ferramentas de análise de terceiros para aprimorar seu processo de tomada de decisão.\n",
            "* **Publique dados de mercado em plataformas sociais:** Compartilhe dados de mercado e insights com seguidores em plataformas sociais usando a API.\n",
            "* **Crie aplicativos personalizados:** Desenvolva aplicativos personalizados que aproveitem os dados e recursos da API do Gemini para atender às suas necessidades específicas.\n",
            "\n",
            "**Outros Exemplos Interessantes**\n",
            "\n",
            "* **Crie um painel de negociação personalizado:** Personalize um painel que exiba dados de mercado relevantes, gráficos e informações de conta.\n",
            "* **Monitore seu portfólio em tempo real:** Receba atualizações em tempo real sobre o valor e o desempenho do seu portfólio.\n",
            "* **Automatize tarefas administrativas:** Automatize tarefas como gerenciamento de ordens, relatórios e análise de desempenho.\n"
          ]
        }
      ]
    },
    {
      "cell_type": "code",
      "source": [
        "chat = model.start_chat(history=[])"
      ],
      "metadata": {
        "id": "J5_j8g78g7b4"
      },
      "execution_count": 22,
      "outputs": []
    },
    {
      "cell_type": "code",
      "source": [
        "prompt = input(\"Esperando prompt: \")\n",
        "\n",
        "while prompt != \"fim\":\n",
        "  response = chat.send_message(prompt)\n",
        "  print(\"Resposta: \", response.text, \"\\n\")\n",
        "  prompt = input(\"Esperando prompt: \")\n"
      ],
      "metadata": {
        "colab": {
          "base_uri": "https://localhost:8080/",
          "height": 347
        },
        "id": "EMfukEdUiM-p",
        "outputId": "fb9321b8-e778-4c1d-b3ce-0e48288a15cb"
      },
      "execution_count": 24,
      "outputs": [
        {
          "name": "stdout",
          "output_type": "stream",
          "text": [
            "Esperando prompt: qual a capital do Japão?\n",
            "Resposta:  Tóquio \n",
            "\n",
            "Esperando prompt: Qual a comida típica desse país?\n",
            "Resposta:  Sushi \n",
            "\n",
            "Esperando prompt: Meu primo nascesu nessa cidade. Qual a nacionalidade dele?\n",
            "Resposta:  Japonesa \n",
            "\n",
            "Esperando prompt: Qual a população dessa cidade?\n",
            "Resposta:  Tóquio tem uma população de aproximadamente 9 milhões de habitantes. \n",
            "\n",
            "Esperando prompt: De qual cidade?\n",
            "Resposta:  Tóquio \n",
            "\n",
            "Esperando prompt: Qual a população de Toquio?\n",
            "Resposta:  Aproximadamente 9 milhões de habitantes \n",
            "\n",
            "Esperando prompt: fim\n"
          ]
        }
      ]
    },
    {
      "cell_type": "code",
      "source": [
        "chat"
      ],
      "metadata": {
        "colab": {
          "base_uri": "https://localhost:8080/"
        },
        "id": "Pve5REEd-k89",
        "outputId": "ec075fb1-6c4d-4f00-8af4-d54e4d798b27"
      },
      "execution_count": 25,
      "outputs": [
        {
          "output_type": "execute_result",
          "data": {
            "text/plain": [
              "ChatSession(\n",
              "    model=genai.GenerativeModel(\n",
              "        model_name='models/gemini-1.0-pro',\n",
              "        generation_config={'candidate_count': 1, 'temperature': 0.5},\n",
              "        safety_settings={<HarmCategory.HARM_CATEGORY_HARASSMENT: 7>: <HarmBlockThreshold.BLOCK_NONE: 4>, <HarmCategory.HARM_CATEGORY_HATE_SPEECH: 8>: <HarmBlockThreshold.BLOCK_NONE: 4>, <HarmCategory.HARM_CATEGORY_SEXUALLY_EXPLICIT: 9>: <HarmBlockThreshold.BLOCK_NONE: 4>, <HarmCategory.HARM_CATEGORY_DANGEROUS_CONTENT: 10>: <HarmBlockThreshold.BLOCK_NONE: 4>},\n",
              "        tools=None,\n",
              "        system_instruction=None,\n",
              "    ),\n",
              "    history=[glm.Content({'parts': [{'text': 'qual a capital do Japão?'}], 'role': 'user'}), glm.Content({'parts': [{'text': 'Tóquio'}], 'role': 'model'}), glm.Content({'parts': [{'text': 'Qual a comid...a desse país?'}], 'role': 'user'}), glm.Content({'parts': [{'text': 'Sushi'}], 'role': 'model'}), glm.Content({'parts': [{'text': 'Meu primo na...alidade dele?'}], 'role': 'user'}), glm.Content({'parts': [{'text': 'Japonesa'}], 'role': 'model'}), glm.Content({'parts': [{'text': 'Qual a popul...dessa cidade?'}], 'role': 'user'}), glm.Content({'parts': [{'text': 'Tóquio tem u...e habitantes.'}], 'role': 'model'}), glm.Content({'parts': [{'text': 'De qual cidade?'}], 'role': 'user'}), glm.Content({'parts': [{'text': 'Tóquio'}], 'role': 'model'}), glm.Content({'parts': [{'text': 'Qual a população de Toquio?'}], 'role': 'user'}), glm.Content({'parts': [{'text': 'Aproximadame...de habitantes'}], 'role': 'model'})]\n",
              ")"
            ]
          },
          "metadata": {},
          "execution_count": 25
        }
      ]
    },
    {
      "cell_type": "code",
      "source": [
        "chat.history"
      ],
      "metadata": {
        "colab": {
          "base_uri": "https://localhost:8080/"
        },
        "id": "9Su_rdDR-2A1",
        "outputId": "a2f63689-161a-4885-bce8-ca036abe0fe2"
      },
      "execution_count": 27,
      "outputs": [
        {
          "output_type": "execute_result",
          "data": {
            "text/plain": [
              "[parts {\n",
              "   text: \"qual a capital do Jap\\303\\243o?\"\n",
              " }\n",
              " role: \"user\",\n",
              " parts {\n",
              "   text: \"T\\303\\263quio\"\n",
              " }\n",
              " role: \"model\",\n",
              " parts {\n",
              "   text: \"Qual a comida t\\303\\255pica desse pa\\303\\255s?\"\n",
              " }\n",
              " role: \"user\",\n",
              " parts {\n",
              "   text: \"Sushi\"\n",
              " }\n",
              " role: \"model\",\n",
              " parts {\n",
              "   text: \"Meu primo nascesu nessa cidade. Qual a nacionalidade dele?\"\n",
              " }\n",
              " role: \"user\",\n",
              " parts {\n",
              "   text: \"Japonesa\"\n",
              " }\n",
              " role: \"model\",\n",
              " parts {\n",
              "   text: \"Qual a popula\\303\\247\\303\\243o dessa cidade?\"\n",
              " }\n",
              " role: \"user\",\n",
              " parts {\n",
              "   text: \"T\\303\\263quio tem uma popula\\303\\247\\303\\243o de aproximadamente 9 milh\\303\\265es de habitantes.\"\n",
              " }\n",
              " role: \"model\",\n",
              " parts {\n",
              "   text: \"De qual cidade?\"\n",
              " }\n",
              " role: \"user\",\n",
              " parts {\n",
              "   text: \"T\\303\\263quio\"\n",
              " }\n",
              " role: \"model\",\n",
              " parts {\n",
              "   text: \"Qual a popula\\303\\247\\303\\243o de Toquio?\"\n",
              " }\n",
              " role: \"user\",\n",
              " parts {\n",
              "   text: \"Aproximadamente 9 milh\\303\\265es de habitantes\"\n",
              " }\n",
              " role: \"model\"]"
            ]
          },
          "metadata": {},
          "execution_count": 27
        }
      ]
    },
    {
      "cell_type": "code",
      "source": [
        "import textwrap\n",
        "from IPython.display import display\n",
        "from IPython.display import Markdown\n",
        "\n",
        "\n",
        "def to_markdown(text):\n",
        "  text = text.replace('•', '  *')\n",
        "  return Markdown(textwrap.indent(text, '> ', predicate=lambda _: True))\n",
        "\n",
        "for message in chat.history:\n",
        "  display(to_markdown(f'**{message.role}**: {message.parts[0].text}'))\n",
        "  print('-------------------------------')\n",
        "\n"
      ],
      "metadata": {
        "colab": {
          "base_uri": "https://localhost:8080/",
          "height": 770
        },
        "id": "DR2G376XiUsL",
        "outputId": "fa6284a7-c844-4419-cf32-d8de894720a9"
      },
      "execution_count": 26,
      "outputs": [
        {
          "output_type": "display_data",
          "data": {
            "text/plain": [
              "<IPython.core.display.Markdown object>"
            ],
            "text/markdown": "> **user**: qual a capital do Japão?"
          },
          "metadata": {}
        },
        {
          "output_type": "stream",
          "name": "stdout",
          "text": [
            "-------------------------------\n"
          ]
        },
        {
          "output_type": "display_data",
          "data": {
            "text/plain": [
              "<IPython.core.display.Markdown object>"
            ],
            "text/markdown": "> **model**: Tóquio"
          },
          "metadata": {}
        },
        {
          "output_type": "stream",
          "name": "stdout",
          "text": [
            "-------------------------------\n"
          ]
        },
        {
          "output_type": "display_data",
          "data": {
            "text/plain": [
              "<IPython.core.display.Markdown object>"
            ],
            "text/markdown": "> **user**: Qual a comida típica desse país?"
          },
          "metadata": {}
        },
        {
          "output_type": "stream",
          "name": "stdout",
          "text": [
            "-------------------------------\n"
          ]
        },
        {
          "output_type": "display_data",
          "data": {
            "text/plain": [
              "<IPython.core.display.Markdown object>"
            ],
            "text/markdown": "> **model**: Sushi"
          },
          "metadata": {}
        },
        {
          "output_type": "stream",
          "name": "stdout",
          "text": [
            "-------------------------------\n"
          ]
        },
        {
          "output_type": "display_data",
          "data": {
            "text/plain": [
              "<IPython.core.display.Markdown object>"
            ],
            "text/markdown": "> **user**: Meu primo nascesu nessa cidade. Qual a nacionalidade dele?"
          },
          "metadata": {}
        },
        {
          "output_type": "stream",
          "name": "stdout",
          "text": [
            "-------------------------------\n"
          ]
        },
        {
          "output_type": "display_data",
          "data": {
            "text/plain": [
              "<IPython.core.display.Markdown object>"
            ],
            "text/markdown": "> **model**: Japonesa"
          },
          "metadata": {}
        },
        {
          "output_type": "stream",
          "name": "stdout",
          "text": [
            "-------------------------------\n"
          ]
        },
        {
          "output_type": "display_data",
          "data": {
            "text/plain": [
              "<IPython.core.display.Markdown object>"
            ],
            "text/markdown": "> **user**: Qual a população dessa cidade?"
          },
          "metadata": {}
        },
        {
          "output_type": "stream",
          "name": "stdout",
          "text": [
            "-------------------------------\n"
          ]
        },
        {
          "output_type": "display_data",
          "data": {
            "text/plain": [
              "<IPython.core.display.Markdown object>"
            ],
            "text/markdown": "> **model**: Tóquio tem uma população de aproximadamente 9 milhões de habitantes."
          },
          "metadata": {}
        },
        {
          "output_type": "stream",
          "name": "stdout",
          "text": [
            "-------------------------------\n"
          ]
        },
        {
          "output_type": "display_data",
          "data": {
            "text/plain": [
              "<IPython.core.display.Markdown object>"
            ],
            "text/markdown": "> **user**: De qual cidade?"
          },
          "metadata": {}
        },
        {
          "output_type": "stream",
          "name": "stdout",
          "text": [
            "-------------------------------\n"
          ]
        },
        {
          "output_type": "display_data",
          "data": {
            "text/plain": [
              "<IPython.core.display.Markdown object>"
            ],
            "text/markdown": "> **model**: Tóquio"
          },
          "metadata": {}
        },
        {
          "output_type": "stream",
          "name": "stdout",
          "text": [
            "-------------------------------\n"
          ]
        },
        {
          "output_type": "display_data",
          "data": {
            "text/plain": [
              "<IPython.core.display.Markdown object>"
            ],
            "text/markdown": "> **user**: Qual a população de Toquio?"
          },
          "metadata": {}
        },
        {
          "output_type": "stream",
          "name": "stdout",
          "text": [
            "-------------------------------\n"
          ]
        },
        {
          "output_type": "display_data",
          "data": {
            "text/plain": [
              "<IPython.core.display.Markdown object>"
            ],
            "text/markdown": "> **model**: Aproximadamente 9 milhões de habitantes"
          },
          "metadata": {}
        },
        {
          "output_type": "stream",
          "name": "stdout",
          "text": [
            "-------------------------------\n"
          ]
        }
      ]
    },
    {
      "cell_type": "code",
      "source": [],
      "metadata": {
        "id": "g-JcfRmYstCy"
      },
      "execution_count": null,
      "outputs": []
    }
  ]
}