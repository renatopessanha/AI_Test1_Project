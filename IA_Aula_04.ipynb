{
  "nbformat": 4,
  "nbformat_minor": 0,
  "metadata": {
    "colab": {
      "provenance": [],
      "authorship_tag": "ABX9TyNpI/nTlXVrm84rnuSd2yq+",
      "include_colab_link": true
    },
    "kernelspec": {
      "name": "python3",
      "display_name": "Python 3"
    },
    "language_info": {
      "name": "python"
    }
  },
  "cells": [
    {
      "cell_type": "markdown",
      "metadata": {
        "id": "view-in-github",
        "colab_type": "text"
      },
      "source": [
        "<a href=\"https://colab.research.google.com/github/renatopessanha/AI_Test1_Project/blob/main/IA_Aula_04.ipynb\" target=\"_parent\"><img src=\"https://colab.research.google.com/assets/colab-badge.svg\" alt=\"Open In Colab\"/></a>"
      ]
    },
    {
      "cell_type": "code",
      "execution_count": 1,
      "metadata": {
        "id": "RKURnTvBO45e"
      },
      "outputs": [],
      "source": [
        "!pip install -q -U google-generativeai"
      ]
    },
    {
      "cell_type": "code",
      "source": [
        "# Import the Python SDK\n",
        "import google.generativeai as genai\n",
        "\n",
        "from google.colab import userdata\n",
        "api_key = userdata.get('SECRET_KEY1')\n",
        "\n",
        "GOOGLE_API_KEY = api_key\n",
        "genai.configure(api_key=GOOGLE_API_KEY)"
      ],
      "metadata": {
        "id": "DOvlIOw3X7BY"
      },
      "execution_count": 2,
      "outputs": []
    },
    {
      "cell_type": "code",
      "source": [
        "model = genai.GenerativeModel('gemini-pro')"
      ],
      "metadata": {
        "id": "J6PTRWwrYQs5"
      },
      "execution_count": 3,
      "outputs": []
    },
    {
      "cell_type": "code",
      "source": [
        "response = model.generate_content(\"Sugira exemplos interessantes para explorar a API do Gemini.\")\n",
        "print(response.text)"
      ],
      "metadata": {
        "colab": {
          "base_uri": "https://localhost:8080/",
          "height": 578
        },
        "id": "AmoFkexuYfez",
        "outputId": "1cdc2396-e129-4e7a-e48f-f02f556b3106"
      },
      "execution_count": 4,
      "outputs": [
        {
          "output_type": "stream",
          "name": "stdout",
          "text": [
            "**Exemplos de Exploração da API do Gemini**\n",
            "\n",
            "**Monitoramento de Preços:**\n",
            "* Crie um script para monitorar pares de moedas específicos e enviar alertas quando determinados limites de preço forem atingidos.\n",
            "* Desenvolva um painel personalizado que exiba preços em tempo real, gráficos e outros dados de mercado.\n",
            "\n",
            "**Negociação Automatizada:**\n",
            "* Conecte-se à API para executar negociações automáticas com base em estratégias predefinidas.\n",
            "* Utilize bibliotecas de aprendizado de máquina para treinar modelos preditivos e otimizar estratégias de negociação.\n",
            "\n",
            "**Análise de Mercado:**\n",
            "* Extraia dados históricos de mercado e execute análises técnicas para identificar tendências e padrões.\n",
            "* Crie indicadores personalizados e use-os para tomar decisões de negociação informadas.\n",
            "\n",
            "**Gerenciamento de Risco:**\n",
            "* Desenvolva ferramentas para monitorar posições, gerenciar ordens stop-loss e calcular métricas de risco.\n",
            "* Utilize a API para obter dados sobre liquidez e garantir negociações seguras.\n",
            "\n",
            "**Pesquisas Quantitativas:**\n",
            "* Faça pesquisas quantitativas usando dados da API para testar hipóteses e desenvolver novas estratégias de negociação.\n",
            "* Utilize técnicas como análise de série temporal e modelagem estatística para identificar padrões e anomalias no mercado.\n",
            "\n",
            "**Integrações de Terceiros:**\n",
            "* Integre a API do Gemini com plataformas de terceiros, como rastreadores de portfólio e ferramentas de análise técnica.\n",
            "* Crie soluções personalizadas que combinem dados e recursos do Gemini com aqueles de outras plataformas.\n",
            "\n",
            "**Exemplos Específicos:**\n",
            "\n",
            "* **Monitoramento de Arbitragem:** Use a API para monitorar os preços de um ativo em diferentes bolsas e identificar oportunidades de arbitragem.\n",
            "* **Bot de Negociação de Grade:** Crie um bot de negociação que execute automaticamente ordens de compra e venda em uma faixa de preço definida.\n",
            "* **Indicador Técnico Personalizado:** Desenvolva um indicador técnico específico para sua estratégia de negociação e use a API para aplicá-lo aos dados de mercado.\n",
            "* **Gestão Automatizada de Carteira:** Crie um sistema que reequilibre automaticamente uma carteira de criptomoedas com base em alocações pré-definidas.\n",
            "* **Análise de Volatilidade Implícita:** Use a API para obter dados de opções e calcular a volatilidade implícita do mercado.\n"
          ]
        }
      ]
    },
    {
      "cell_type": "code",
      "source": [
        "for m in genai.list_models():\n",
        "  if 'generateContent' in m.supported_generation_methods:\n",
        "    print(m.name)"
      ],
      "metadata": {
        "colab": {
          "base_uri": "https://localhost:8080/",
          "height": 136
        },
        "id": "YWzmPB_DYzfj",
        "outputId": "a689f3d1-500c-438b-e33b-060925262fca"
      },
      "execution_count": 5,
      "outputs": [
        {
          "output_type": "stream",
          "name": "stdout",
          "text": [
            "models/gemini-1.0-pro\n",
            "models/gemini-1.0-pro-001\n",
            "models/gemini-1.0-pro-latest\n",
            "models/gemini-1.0-pro-vision-latest\n",
            "models/gemini-1.5-pro-latest\n",
            "models/gemini-pro\n",
            "models/gemini-pro-vision\n"
          ]
        }
      ]
    },
    {
      "cell_type": "code",
      "source": [
        "generation_config = {\n",
        "    \"candidate_count\": 1,\n",
        "    \"temperature\": 0.5,\n",
        "}"
      ],
      "metadata": {
        "id": "QravRRt7dg5q"
      },
      "execution_count": 6,
      "outputs": []
    },
    {
      "cell_type": "code",
      "source": [
        "safety_settings = {\n",
        "    \"HARASSMENT\": \"BLOCK_NONE\",\n",
        "    \"HATE\": \"BLOCK_NONE\",\n",
        "    \"SEXUAL\": \"BLOCK_NONE\",\n",
        "    \"DANGEROUS\": \"BLOCK_NONE\",\n",
        "}"
      ],
      "metadata": {
        "id": "3fLnFhoueGP5"
      },
      "execution_count": 7,
      "outputs": []
    },
    {
      "cell_type": "code",
      "source": [
        "model = genai.GenerativeModel(model_name = \"gemini-1.0-pro\",\n",
        "                              generation_config = generation_config,\n",
        "                              safety_settings = safety_settings)"
      ],
      "metadata": {
        "id": "FU6QCZk5e2S2"
      },
      "execution_count": 8,
      "outputs": []
    },
    {
      "cell_type": "code",
      "source": [
        "response = model.generate_content(\"Sugira exemplos interessantes para explorar a API do Gemini.\")\n",
        "print(response.text)"
      ],
      "metadata": {
        "colab": {
          "base_uri": "https://localhost:8080/",
          "height": 530
        },
        "id": "7s1WzbGFgT4-",
        "outputId": "6ed0568b-e5ac-4749-e2c2-e5c6ca926098"
      },
      "execution_count": 9,
      "outputs": [
        {
          "output_type": "stream",
          "name": "stdout",
          "text": [
            "**Exploração de Dados de Mercado**\n",
            "\n",
            "* **Obter dados de preços históricos:** Recupere dados de preços de alta, baixa, abertura e fechamento para pares de moedas específicos em intervalos de tempo personalizáveis.\n",
            "* **Monitorar o livro de ofertas:** Acompanhe a profundidade do mercado em tempo real para pares de moedas, identificando potenciais oportunidades de negociação.\n",
            "* **Analisar o volume de negociação:** Examine o volume de negociação para pares de moedas específicos, fornecendo insights sobre a atividade do mercado e tendências de preços.\n",
            "\n",
            "**Automação de Negociação**\n",
            "\n",
            "* **Criar ordens automatizadas:** Envie ordens de negociação por meio da API, definindo parâmetros como tipo de ordem, preço e quantidade.\n",
            "* **Gerenciar ordens existentes:** Modifique ou cancele ordens existentes, permitindo ajustes rápidos à estratégia de negociação.\n",
            "* **Executar negociações com base em sinais:** Integre a API com plataformas de análise técnica para executar negociações automaticamente com base em sinais pré-definidos.\n",
            "\n",
            "**Gestão de Contas**\n",
            "\n",
            "* **Obter informações da conta:** Recupere o saldo da conta, histórico de transações e outras informações relacionadas à conta.\n",
            "* **Depositar e sacar fundos:** Inicie depósitos e saques de fundos para e da conta Gemini.\n",
            "* **Gerenciar subcontas:** Crie e gerencie subcontas, permitindo a segregação de fundos e estratégias de negociação.\n",
            "\n",
            "**Pesquisa e Desenvolvimento**\n",
            "\n",
            "* **Testar novas estratégias de negociação:** Use a API para testar e validar novas estratégias de negociação em um ambiente simulado ou de negociação ao vivo.\n",
            "* **Desenvolver ferramentas de análise personalizadas:** Crie ferramentas personalizadas que se integram à API para analisar dados de mercado e identificar oportunidades de negociação.\n",
            "* **Integrar com outras plataformas:** Conecte a API Gemini a outras plataformas, como plataformas de negociação ou sistemas de gerenciamento de risco, para criar soluções de negociação abrangentes.\n",
            "\n",
            "**Outros Exemplos**\n",
            "\n",
            "* **Rastreamento de carteiras:** Monitore o desempenho das carteiras de criptomoedas, rastreando saldos e valores em tempo real.\n",
            "* **Notificações de preço:** Configure notificações para ser alertado sobre alterações de preço específicas para pares de moedas.\n",
            "* **Análise de sentimento do mercado:** Colete dados de redes sociais e outras fontes para analisar o sentimento do mercado em relação a criptomoedas específicas.\n"
          ]
        }
      ]
    },
    {
      "cell_type": "code",
      "source": [
        "chat = model.start_chat(history=[])"
      ],
      "metadata": {
        "id": "J5_j8g78g7b4"
      },
      "execution_count": 10,
      "outputs": []
    },
    {
      "cell_type": "code",
      "source": [
        "prompt = input(\"Esperando prompt: \")\n",
        "\n",
        "while prompt != \"fim\":\n",
        "  response = chat.send_message(prompt)\n",
        "  print(\"Resposta: \", response.text, \"\\n\")\n",
        "  prompt = input(\"Esperando prompt: \")\n"
      ],
      "metadata": {
        "colab": {
          "base_uri": "https://localhost:8080/",
          "height": 836
        },
        "id": "EMfukEdUiM-p",
        "outputId": "df96e85b-7592-4088-9988-ba58faf687ab"
      },
      "execution_count": 15,
      "outputs": [
        {
          "name": "stdout",
          "output_type": "stream",
          "text": [
            "Esperando prompt: O que é o Gimini?\n",
            "Resposta:  Gemini \n",
            "\n",
            "Esperando prompt: O que é o Gemini?\n",
            "Resposta:  **Gemini** é uma rede de pagamentos e plataforma de negociação de criptomoedas fundada pelos irmãos gêmeos Cameron e Tyler Winklevoss.\n",
            "\n",
            "**Características principais:**\n",
            "\n",
            "* **Segurança:** Armazena fundos de usuários em carteiras frias (offline) e usa autenticação de dois fatores.\n",
            "* **Conformidade:** Registrada como uma exchange de ativos digitais junto à Autoridade Reguladora da Indústria Financeira (FINRA) dos EUA.\n",
            "* **Liquidez:** Uma das maiores exchanges de criptomoedas em termos de volume de negociação.\n",
            "* **Suporte a várias moedas:** Suporta uma ampla gama de criptomoedas, incluindo Bitcoin, Ethereum, Litecoin e mais.\n",
            "* **Custódia:** Oferece serviços de custódia para investidores institucionais e indivíduos de alto patrimônio líquido.\n",
            "* **Programa de recompensas:** Recompensa os usuários por manterem saldos de criptomoedas na plataforma.\n",
            "* **Interface amigável:** Projetada para ser fácil de usar, mesmo para iniciantes.\n",
            "\n",
            "**Serviços:**\n",
            "\n",
            "* Negociação de criptomoedas\n",
            "* Custódia de criptomoedas\n",
            "* Carteiras de criptomoedas\n",
            "* Empréstimos de criptomoedas\n",
            "* Serviços de staking\n",
            "* Programa de recompensas \n",
            "\n",
            "Esperando prompt: O que é o Gemini do Google?\n",
            "Resposta:  **Gemini do Google** é um aplicativo de videochamada e mensagens desenvolvido pelo Google. É projetado para uso empresarial e oferece recursos avançados para colaboração e comunicação em equipe.\n",
            "\n",
            "**Características principais:**\n",
            "\n",
            "* **Videochamadas de alta qualidade:** Suporta videochamadas de até 100 participantes com resolução de até 4K.\n",
            "* **Compartilhamento de tela:** Permite que os participantes compartilhem suas telas para apresentações, demonstrações e colaboração.\n",
            "* **Mensagens instantâneas:** Oferece recursos de mensagens instantâneas para comunicação rápida e fácil entre os membros da equipe.\n",
            "* **Integrações:** Integra-se com outros aplicativos e serviços do Google, como Agenda, Drive e Gmail.\n",
            "* **Recursos de colaboração:** Inclui recursos como quadros brancos digitais, anotações e votações para facilitar a colaboração em tempo real.\n",
            "* **Segurança:** Usa criptografia de ponta a ponta para proteger chamadas e mensagens.\n",
            "* **Disponibilidade:** Disponível em dispositivos móveis, desktops e navegadores da web.\n",
            "\n",
            "**Benefícios:**\n",
            "\n",
            "* **Comunicação aprimorada:** Facilita a comunicação clara e eficiente entre as equipes.\n",
            "* **Colaboração aprimorada:** Permite que as equipes colaborem em projetos e ideias de forma mais eficaz.\n",
            "* **Produtividade aprimorada:** Agiliza os processos de comunicação e colaboração, economizando tempo e esforço.\n",
            "* **Integração perfeita:** Integra-se perfeitamente com outros aplicativos e serviços do Google, criando um fluxo de trabalho unificado.\n",
            "* **Segurança:** Protege as comunicações da equipe com criptografia de ponta a ponta. \n",
            "\n",
            "Esperando prompt: fim\n"
          ]
        }
      ]
    },
    {
      "cell_type": "code",
      "source": [
        "chat"
      ],
      "metadata": {
        "colab": {
          "base_uri": "https://localhost:8080/"
        },
        "id": "Pve5REEd-k89",
        "outputId": "a94f7e47-7d79-46f4-ddc6-ae41a92fe6b8"
      },
      "execution_count": 16,
      "outputs": [
        {
          "output_type": "execute_result",
          "data": {
            "text/plain": [
              "ChatSession(\n",
              "    model=genai.GenerativeModel(\n",
              "        model_name='models/gemini-1.0-pro',\n",
              "        generation_config={'candidate_count': 1, 'temperature': 0.5},\n",
              "        safety_settings={<HarmCategory.HARM_CATEGORY_HARASSMENT: 7>: <HarmBlockThreshold.BLOCK_NONE: 4>, <HarmCategory.HARM_CATEGORY_HATE_SPEECH: 8>: <HarmBlockThreshold.BLOCK_NONE: 4>, <HarmCategory.HARM_CATEGORY_SEXUALLY_EXPLICIT: 9>: <HarmBlockThreshold.BLOCK_NONE: 4>, <HarmCategory.HARM_CATEGORY_DANGEROUS_CONTENT: 10>: <HarmBlockThreshold.BLOCK_NONE: 4>},\n",
              "        tools=None,\n",
              "        system_instruction=None,\n",
              "    ),\n",
              "    history=[glm.Content({'parts': [{'text': 'O que é o Gimini?'}], 'role': 'user'}), glm.Content({'parts': [{'text': 'Gemini'}], 'role': 'model'}), glm.Content({'parts': [{'text': 'O que é o Gemini?'}], 'role': 'user'}), glm.Content({'parts': [{'text': '**Gemini** é...e recompensas'}], 'role': 'model'}), glm.Content({'parts': [{'text': 'O que é o Gemini do Google?'}], 'role': 'user'}), glm.Content({'parts': [{'text': '**Gemini do ...onta a ponta.'}], 'role': 'model'})]\n",
              ")"
            ]
          },
          "metadata": {},
          "execution_count": 16
        }
      ]
    },
    {
      "cell_type": "code",
      "source": [
        "chat.history"
      ],
      "metadata": {
        "colab": {
          "base_uri": "https://localhost:8080/"
        },
        "id": "9Su_rdDR-2A1",
        "outputId": "a4668bd9-3224-495a-a642-23f55d335f30"
      },
      "execution_count": 17,
      "outputs": [
        {
          "output_type": "execute_result",
          "data": {
            "text/plain": [
              "[parts {\n",
              "   text: \"O que \\303\\251 o Gimini?\"\n",
              " }\n",
              " role: \"user\",\n",
              " parts {\n",
              "   text: \"Gemini\"\n",
              " }\n",
              " role: \"model\",\n",
              " parts {\n",
              "   text: \"O que \\303\\251 o Gemini?\"\n",
              " }\n",
              " role: \"user\",\n",
              " parts {\n",
              "   text: \"**Gemini** \\303\\251 uma rede de pagamentos e plataforma de negocia\\303\\247\\303\\243o de criptomoedas fundada pelos irm\\303\\243os g\\303\\252meos Cameron e Tyler Winklevoss.\\n\\n**Caracter\\303\\255sticas principais:**\\n\\n* **Seguran\\303\\247a:** Armazena fundos de usu\\303\\241rios em carteiras frias (offline) e usa autentica\\303\\247\\303\\243o de dois fatores.\\n* **Conformidade:** Registrada como uma exchange de ativos digitais junto \\303\\240 Autoridade Reguladora da Ind\\303\\272stria Financeira (FINRA) dos EUA.\\n* **Liquidez:** Uma das maiores exchanges de criptomoedas em termos de volume de negocia\\303\\247\\303\\243o.\\n* **Suporte a v\\303\\241rias moedas:** Suporta uma ampla gama de criptomoedas, incluindo Bitcoin, Ethereum, Litecoin e mais.\\n* **Cust\\303\\263dia:** Oferece servi\\303\\247os de cust\\303\\263dia para investidores institucionais e indiv\\303\\255duos de alto patrim\\303\\264nio l\\303\\255quido.\\n* **Programa de recompensas:** Recompensa os usu\\303\\241rios por manterem saldos de criptomoedas na plataforma.\\n* **Interface amig\\303\\241vel:** Projetada para ser f\\303\\241cil de usar, mesmo para iniciantes.\\n\\n**Servi\\303\\247os:**\\n\\n* Negocia\\303\\247\\303\\243o de criptomoedas\\n* Cust\\303\\263dia de criptomoedas\\n* Carteiras de criptomoedas\\n* Empr\\303\\251stimos de criptomoedas\\n* Servi\\303\\247os de staking\\n* Programa de recompensas\"\n",
              " }\n",
              " role: \"model\",\n",
              " parts {\n",
              "   text: \"O que \\303\\251 o Gemini do Google?\"\n",
              " }\n",
              " role: \"user\",\n",
              " parts {\n",
              "   text: \"**Gemini do Google** \\303\\251 um aplicativo de videochamada e mensagens desenvolvido pelo Google. \\303\\211 projetado para uso empresarial e oferece recursos avan\\303\\247ados para colabora\\303\\247\\303\\243o e comunica\\303\\247\\303\\243o em equipe.\\n\\n**Caracter\\303\\255sticas principais:**\\n\\n* **Videochamadas de alta qualidade:** Suporta videochamadas de at\\303\\251 100 participantes com resolu\\303\\247\\303\\243o de at\\303\\251 4K.\\n* **Compartilhamento de tela:** Permite que os participantes compartilhem suas telas para apresenta\\303\\247\\303\\265es, demonstra\\303\\247\\303\\265es e colabora\\303\\247\\303\\243o.\\n* **Mensagens instant\\303\\242neas:** Oferece recursos de mensagens instant\\303\\242neas para comunica\\303\\247\\303\\243o r\\303\\241pida e f\\303\\241cil entre os membros da equipe.\\n* **Integra\\303\\247\\303\\265es:** Integra-se com outros aplicativos e servi\\303\\247os do Google, como Agenda, Drive e Gmail.\\n* **Recursos de colabora\\303\\247\\303\\243o:** Inclui recursos como quadros brancos digitais, anota\\303\\247\\303\\265es e vota\\303\\247\\303\\265es para facilitar a colabora\\303\\247\\303\\243o em tempo real.\\n* **Seguran\\303\\247a:** Usa criptografia de ponta a ponta para proteger chamadas e mensagens.\\n* **Disponibilidade:** Dispon\\303\\255vel em dispositivos m\\303\\263veis, desktops e navegadores da web.\\n\\n**Benef\\303\\255cios:**\\n\\n* **Comunica\\303\\247\\303\\243o aprimorada:** Facilita a comunica\\303\\247\\303\\243o clara e eficiente entre as equipes.\\n* **Colabora\\303\\247\\303\\243o aprimorada:** Permite que as equipes colaborem em projetos e ideias de forma mais eficaz.\\n* **Produtividade aprimorada:** Agiliza os processos de comunica\\303\\247\\303\\243o e colabora\\303\\247\\303\\243o, economizando tempo e esfor\\303\\247o.\\n* **Integra\\303\\247\\303\\243o perfeita:** Integra-se perfeitamente com outros aplicativos e servi\\303\\247os do Google, criando um fluxo de trabalho unificado.\\n* **Seguran\\303\\247a:** Protege as comunica\\303\\247\\303\\265es da equipe com criptografia de ponta a ponta.\"\n",
              " }\n",
              " role: \"model\"]"
            ]
          },
          "metadata": {},
          "execution_count": 17
        }
      ]
    },
    {
      "cell_type": "code",
      "source": [
        "import textwrap\n",
        "from IPython.display import display\n",
        "from IPython.display import Markdown\n",
        "\n",
        "\n",
        "def to_markdown(text):\n",
        "  text = text.replace('•', '  *')\n",
        "  return Markdown(textwrap.indent(text, '> ', predicate=lambda _: True))\n",
        "\n",
        "for message in chat.history:\n",
        "  display(to_markdown(f'**{message.role}**: {message.parts[0].text}'))\n",
        "  print('-------------------------------')\n",
        "\n"
      ],
      "metadata": {
        "colab": {
          "base_uri": "https://localhost:8080/",
          "height": 947
        },
        "id": "DR2G376XiUsL",
        "outputId": "1fb6f1ca-46d9-45df-a992-66819741e74f"
      },
      "execution_count": 18,
      "outputs": [
        {
          "output_type": "display_data",
          "data": {
            "text/plain": [
              "<IPython.core.display.Markdown object>"
            ],
            "text/markdown": "> **user**: O que é o Gimini?"
          },
          "metadata": {}
        },
        {
          "output_type": "stream",
          "name": "stdout",
          "text": [
            "-------------------------------\n"
          ]
        },
        {
          "output_type": "display_data",
          "data": {
            "text/plain": [
              "<IPython.core.display.Markdown object>"
            ],
            "text/markdown": "> **model**: Gemini"
          },
          "metadata": {}
        },
        {
          "output_type": "stream",
          "name": "stdout",
          "text": [
            "-------------------------------\n"
          ]
        },
        {
          "output_type": "display_data",
          "data": {
            "text/plain": [
              "<IPython.core.display.Markdown object>"
            ],
            "text/markdown": "> **user**: O que é o Gemini?"
          },
          "metadata": {}
        },
        {
          "output_type": "stream",
          "name": "stdout",
          "text": [
            "-------------------------------\n"
          ]
        },
        {
          "output_type": "display_data",
          "data": {
            "text/plain": [
              "<IPython.core.display.Markdown object>"
            ],
            "text/markdown": "> **model**: **Gemini** é uma rede de pagamentos e plataforma de negociação de criptomoedas fundada pelos irmãos gêmeos Cameron e Tyler Winklevoss.\n> \n> **Características principais:**\n> \n> * **Segurança:** Armazena fundos de usuários em carteiras frias (offline) e usa autenticação de dois fatores.\n> * **Conformidade:** Registrada como uma exchange de ativos digitais junto à Autoridade Reguladora da Indústria Financeira (FINRA) dos EUA.\n> * **Liquidez:** Uma das maiores exchanges de criptomoedas em termos de volume de negociação.\n> * **Suporte a várias moedas:** Suporta uma ampla gama de criptomoedas, incluindo Bitcoin, Ethereum, Litecoin e mais.\n> * **Custódia:** Oferece serviços de custódia para investidores institucionais e indivíduos de alto patrimônio líquido.\n> * **Programa de recompensas:** Recompensa os usuários por manterem saldos de criptomoedas na plataforma.\n> * **Interface amigável:** Projetada para ser fácil de usar, mesmo para iniciantes.\n> \n> **Serviços:**\n> \n> * Negociação de criptomoedas\n> * Custódia de criptomoedas\n> * Carteiras de criptomoedas\n> * Empréstimos de criptomoedas\n> * Serviços de staking\n> * Programa de recompensas"
          },
          "metadata": {}
        },
        {
          "output_type": "stream",
          "name": "stdout",
          "text": [
            "-------------------------------\n"
          ]
        },
        {
          "output_type": "display_data",
          "data": {
            "text/plain": [
              "<IPython.core.display.Markdown object>"
            ],
            "text/markdown": "> **user**: O que é o Gemini do Google?"
          },
          "metadata": {}
        },
        {
          "output_type": "stream",
          "name": "stdout",
          "text": [
            "-------------------------------\n"
          ]
        },
        {
          "output_type": "display_data",
          "data": {
            "text/plain": [
              "<IPython.core.display.Markdown object>"
            ],
            "text/markdown": "> **model**: **Gemini do Google** é um aplicativo de videochamada e mensagens desenvolvido pelo Google. É projetado para uso empresarial e oferece recursos avançados para colaboração e comunicação em equipe.\n> \n> **Características principais:**\n> \n> * **Videochamadas de alta qualidade:** Suporta videochamadas de até 100 participantes com resolução de até 4K.\n> * **Compartilhamento de tela:** Permite que os participantes compartilhem suas telas para apresentações, demonstrações e colaboração.\n> * **Mensagens instantâneas:** Oferece recursos de mensagens instantâneas para comunicação rápida e fácil entre os membros da equipe.\n> * **Integrações:** Integra-se com outros aplicativos e serviços do Google, como Agenda, Drive e Gmail.\n> * **Recursos de colaboração:** Inclui recursos como quadros brancos digitais, anotações e votações para facilitar a colaboração em tempo real.\n> * **Segurança:** Usa criptografia de ponta a ponta para proteger chamadas e mensagens.\n> * **Disponibilidade:** Disponível em dispositivos móveis, desktops e navegadores da web.\n> \n> **Benefícios:**\n> \n> * **Comunicação aprimorada:** Facilita a comunicação clara e eficiente entre as equipes.\n> * **Colaboração aprimorada:** Permite que as equipes colaborem em projetos e ideias de forma mais eficaz.\n> * **Produtividade aprimorada:** Agiliza os processos de comunicação e colaboração, economizando tempo e esforço.\n> * **Integração perfeita:** Integra-se perfeitamente com outros aplicativos e serviços do Google, criando um fluxo de trabalho unificado.\n> * **Segurança:** Protege as comunicações da equipe com criptografia de ponta a ponta."
          },
          "metadata": {}
        },
        {
          "output_type": "stream",
          "name": "stdout",
          "text": [
            "-------------------------------\n"
          ]
        }
      ]
    },
    {
      "cell_type": "code",
      "source": [],
      "metadata": {
        "id": "g-JcfRmYstCy"
      },
      "execution_count": 14,
      "outputs": []
    }
  ]
}